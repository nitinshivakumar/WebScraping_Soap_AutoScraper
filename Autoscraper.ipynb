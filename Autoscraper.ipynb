{
 "cells": [
  {
   "cell_type": "code",
   "execution_count": 1,
   "id": "cefaa456",
   "metadata": {},
   "outputs": [],
   "source": [
    "from autoscraper import AutoScraper"
   ]
  },
  {
   "cell_type": "code",
   "execution_count": 2,
   "id": "82fc705a",
   "metadata": {},
   "outputs": [],
   "source": [
    "scrape = AutoScraper()"
   ]
  },
  {
   "cell_type": "code",
   "execution_count": 3,
   "id": "be9e8e85",
   "metadata": {},
   "outputs": [
    {
     "name": "stdout",
     "output_type": "stream",
     "text": [
      "['Text-Summarization-NLP-Project', 'FastAPI', 'practisegit', 'flaskineuron', 'mlflowexperiments', 'gitpractise', 'testmlflow', 'mlproject', 'DiamondPricePrediction1', 'Tutorials-Python-In-Hindi', 'OPENAI-API-Tutorials', 'playstore-Dataset', 'Diabetes-Prediction-With-deployment', 'MLAWS-SagemakerProject', 'Prompt-Engineering-LangChain', 'Langchain-Tutorials', 'Chicken-Disease-Classification-Projects', 'End-To-End-NLP-Project-Text-Summarization', 'Deployment-flask', 'DiamondPricePrediction2', 'Flask-Web-Framework', 'FSDSRegression', 'Cotton-Disease-Prediction-Deep-Learning', 'Student-Performance-Azure-deployment', 'Flight-Price-Prediction1', 'AWS-CI-CD-Projects', 'ML-Project-Azure', 'Diabetes-Deployment-With-BeanStalk', 'Studentmlprojectregression', 'Students-MLProjectsRegression', '20', '82', '6', '8', '2', '322', '46', '4', '3', '1', '14', '36', '497', '179', '69', '91', '31', '5', '59', '9', '195', '11', '49', '18', '10', '16', '37', '287', '109', '19', '74', '15', '24', '23']\n"
     ]
    }
   ],
   "source": [
    "from autoscraper import AutoScraper\n",
    "\n",
    "url = 'https://github.com/krishnaik06?tab=repositories'\n",
    "\n",
    "# We can add one or multiple candidates here.\n",
    "# You can also put urls here to retrieve urls.\n",
    "wanted_list = [\"Text-Summarization-NLP-Project\", '6']\n",
    "\n",
    "scraper = AutoScraper()\n",
    "result = scraper.build(url, wanted_list)\n",
    "print(result)"
   ]
  },
  {
   "cell_type": "code",
   "execution_count": 4,
   "id": "89d4c849",
   "metadata": {},
   "outputs": [
    {
     "data": {
      "text/plain": [
       "{'rule_fbpd': ['Text-Summarization-NLP-Project',\n",
       "  'FastAPI',\n",
       "  'practisegit',\n",
       "  'flaskineuron',\n",
       "  'mlflowexperiments',\n",
       "  'gitpractise',\n",
       "  'testmlflow',\n",
       "  'mlproject',\n",
       "  'DiamondPricePrediction1',\n",
       "  'Tutorials-Python-In-Hindi',\n",
       "  'OPENAI-API-Tutorials',\n",
       "  'playstore-Dataset',\n",
       "  'Diabetes-Prediction-With-deployment',\n",
       "  'MLAWS-SagemakerProject',\n",
       "  'Prompt-Engineering-LangChain',\n",
       "  'Langchain-Tutorials',\n",
       "  'Chicken-Disease-Classification-Projects',\n",
       "  'End-To-End-NLP-Project-Text-Summarization',\n",
       "  'Deployment-flask',\n",
       "  'DiamondPricePrediction2',\n",
       "  'Flask-Web-Framework',\n",
       "  'FSDSRegression',\n",
       "  'Cotton-Disease-Prediction-Deep-Learning',\n",
       "  'Student-Performance-Azure-deployment',\n",
       "  'Flight-Price-Prediction1',\n",
       "  'AWS-CI-CD-Projects',\n",
       "  'ML-Project-Azure',\n",
       "  'Diabetes-Deployment-With-BeanStalk',\n",
       "  'Studentmlprojectregression',\n",
       "  'Students-MLProjectsRegression'],\n",
       " 'rule_jkof': ['20',\n",
       "  '82',\n",
       "  '6',\n",
       "  '8',\n",
       "  '6',\n",
       "  '2',\n",
       "  '322',\n",
       "  '6',\n",
       "  '46',\n",
       "  '4',\n",
       "  '4',\n",
       "  '3',\n",
       "  '1',\n",
       "  '3',\n",
       "  '14',\n",
       "  '36',\n",
       "  '1',\n",
       "  '497',\n",
       "  '2',\n",
       "  '179',\n",
       "  '69',\n",
       "  '91',\n",
       "  '6',\n",
       "  '14',\n",
       "  '31',\n",
       "  '5',\n",
       "  '1',\n",
       "  '14',\n",
       "  '1'],\n",
       " 'rule_50gh': ['20',\n",
       "  '82',\n",
       "  '6',\n",
       "  '8',\n",
       "  '6',\n",
       "  '2',\n",
       "  '322',\n",
       "  '6',\n",
       "  '46',\n",
       "  '4',\n",
       "  '4',\n",
       "  '3',\n",
       "  '1',\n",
       "  '3',\n",
       "  '14',\n",
       "  '36',\n",
       "  '1',\n",
       "  '497',\n",
       "  '2',\n",
       "  '179',\n",
       "  '69',\n",
       "  '91',\n",
       "  '6',\n",
       "  '14',\n",
       "  '31',\n",
       "  '5',\n",
       "  '1',\n",
       "  '14',\n",
       "  '1'],\n",
       " 'rule_hj7d': ['20',\n",
       "  '82',\n",
       "  '6',\n",
       "  '8',\n",
       "  '6',\n",
       "  '2',\n",
       "  '322',\n",
       "  '6',\n",
       "  '46',\n",
       "  '4',\n",
       "  '4',\n",
       "  '3',\n",
       "  '1',\n",
       "  '3',\n",
       "  '14',\n",
       "  '36',\n",
       "  '1',\n",
       "  '497',\n",
       "  '2',\n",
       "  '179',\n",
       "  '69',\n",
       "  '91',\n",
       "  '6',\n",
       "  '14',\n",
       "  '31',\n",
       "  '5',\n",
       "  '1',\n",
       "  '14',\n",
       "  '1'],\n",
       " 'rule_9n2s': ['31',\n",
       "  '59',\n",
       "  '6',\n",
       "  '9',\n",
       "  '4',\n",
       "  '2',\n",
       "  '195',\n",
       "  '11',\n",
       "  '49',\n",
       "  '18',\n",
       "  '2',\n",
       "  '3',\n",
       "  '10',\n",
       "  '14',\n",
       "  '16',\n",
       "  '37',\n",
       "  '1',\n",
       "  '287',\n",
       "  '8',\n",
       "  '109',\n",
       "  '19',\n",
       "  '74',\n",
       "  '15',\n",
       "  '24',\n",
       "  '23',\n",
       "  '5',\n",
       "  '9',\n",
       "  '8',\n",
       "  '1']}"
      ]
     },
     "execution_count": 4,
     "metadata": {},
     "output_type": "execute_result"
    }
   ],
   "source": [
    "scraper.get_result_similar(\"https://github.com/krishnaik06?tab=repositories\",grouped=True)"
   ]
  },
  {
   "cell_type": "code",
   "execution_count": 5,
   "id": "9674eabb",
   "metadata": {},
   "outputs": [],
   "source": [
    "scraper.set_rule_aliases({'rule_fbpd': 'Title', 'rule_jkof': 'Branch'})\n",
    "scraper.keep_rules(['rule_fbpd', 'rule_jkof'])\n",
    "scraper.save('github-repository-search')"
   ]
  },
  {
   "cell_type": "code",
   "execution_count": 6,
   "id": "883768c7",
   "metadata": {},
   "outputs": [],
   "source": [
    "scraper.load('github-repository-search')"
   ]
  },
  {
   "cell_type": "code",
   "execution_count": 7,
   "id": "3923bc34",
   "metadata": {},
   "outputs": [],
   "source": [
    "result=scraper.get_result_similar(\"https://github.com/nitinshivakumar?tab=repositories\",group_by_alias=True)"
   ]
  },
  {
   "cell_type": "code",
   "execution_count": 8,
   "id": "970962e5",
   "metadata": {},
   "outputs": [
    {
     "data": {
      "text/plain": [
       "{'Title': ['Ecommerce-Sentiment-Analysis-and-Review-Processing-using-Python-and-SQL',\n",
       "  'MLFlow_OPS',\n",
       "  'MLFLOW_Project',\n",
       "  'MLflow_OPS_Project',\n",
       "  'Chicken-Disease-Classification',\n",
       "  'Time-Series-Project',\n",
       "  'ML-End-to-End-Project-Deployed',\n",
       "  'NitinShivakumar',\n",
       "  'Amazon-Business-Research-Analyst-Hiring-Challenge--Round-1',\n",
       "  'A-Fine-Windy-Day--HackerEarth-Machine-Learning-challenge',\n",
       "  'Adopt-a-Buddy',\n",
       "  'Web-Scraping-Yahoo-Finance-Stock',\n",
       "  'Email-Spam-Detection-Project',\n",
       "  'Excel-Capstone-Project-FIFA-2019',\n",
       "  'Impact-of-Air-Pollution-on-our-Lives',\n",
       "  'Hackerearth-Attrition',\n",
       "  'IPL_TableauCapstoneProject',\n",
       "  'Kaggle-Housing-Prices',\n",
       "  'Kaggle-Titanic'],\n",
       " 'Branch': ['1']}"
      ]
     },
     "execution_count": 8,
     "metadata": {},
     "output_type": "execute_result"
    }
   ],
   "source": [
    "result"
   ]
  },
  {
   "cell_type": "code",
   "execution_count": null,
   "id": "d608d01c",
   "metadata": {},
   "outputs": [],
   "source": []
  }
 ],
 "metadata": {
  "kernelspec": {
   "display_name": "Python 3 (ipykernel)",
   "language": "python",
   "name": "python3"
  },
  "language_info": {
   "codemirror_mode": {
    "name": "ipython",
    "version": 3
   },
   "file_extension": ".py",
   "mimetype": "text/x-python",
   "name": "python",
   "nbconvert_exporter": "python",
   "pygments_lexer": "ipython3",
   "version": "3.10.8"
  }
 },
 "nbformat": 4,
 "nbformat_minor": 5
}
