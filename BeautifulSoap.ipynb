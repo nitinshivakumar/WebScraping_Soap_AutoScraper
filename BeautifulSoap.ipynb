{
 "cells": [
  {
   "cell_type": "code",
   "execution_count": 4,
   "id": "dec2919b",
   "metadata": {},
   "outputs": [],
   "source": [
    "import requests\n",
    "from bs4 import BeautifulSoup"
   ]
  },
  {
   "cell_type": "code",
   "execution_count": 5,
   "id": "f067363d",
   "metadata": {},
   "outputs": [],
   "source": [
    "data = requests.get('https://en.wikipedia.org/wiki/Rankings_of_universities_in_the_United_Kingdom')"
   ]
  },
  {
   "cell_type": "code",
   "execution_count": 6,
   "id": "2eb140f2",
   "metadata": {},
   "outputs": [],
   "source": [
    "soup = BeautifulSoup(data.text, 'html')"
   ]
  },
  {
   "cell_type": "code",
   "execution_count": 16,
   "id": "47a573de",
   "metadata": {},
   "outputs": [],
   "source": [
    "table = soup.find_all('table')[0]"
   ]
  },
  {
   "cell_type": "code",
   "execution_count": 28,
   "id": "825e6618",
   "metadata": {},
   "outputs": [],
   "source": [
    "rank_titles = table.find_all('th')\n",
    "titles = [i.text.strip() for i in rank_titles]"
   ]
  },
  {
   "cell_type": "code",
   "execution_count": 30,
   "id": "6b61cf7b",
   "metadata": {},
   "outputs": [],
   "source": [
    "import pandas as pd\n",
    "df = pd.DataFrame(columns = titles)"
   ]
  },
  {
   "cell_type": "code",
   "execution_count": 31,
   "id": "88aacb67",
   "metadata": {},
   "outputs": [
    {
     "data": {
      "text/html": [
       "<div>\n",
       "<style scoped>\n",
       "    .dataframe tbody tr th:only-of-type {\n",
       "        vertical-align: middle;\n",
       "    }\n",
       "\n",
       "    .dataframe tbody tr th {\n",
       "        vertical-align: top;\n",
       "    }\n",
       "\n",
       "    .dataframe thead th {\n",
       "        text-align: right;\n",
       "    }\n",
       "</style>\n",
       "<table border=\"1\" class=\"dataframe\">\n",
       "  <thead>\n",
       "    <tr style=\"text-align: right;\">\n",
       "      <th></th>\n",
       "      <th>Rank (1–10)</th>\n",
       "      <th>University</th>\n",
       "      <th>Rank (11–20)</th>\n",
       "      <th>University</th>\n",
       "      <th>Rank (21–30)</th>\n",
       "      <th>University</th>\n",
       "      <th>Rank (31–40)</th>\n",
       "      <th>University</th>\n",
       "    </tr>\n",
       "  </thead>\n",
       "  <tbody>\n",
       "  </tbody>\n",
       "</table>\n",
       "</div>"
      ],
      "text/plain": [
       "Empty DataFrame\n",
       "Columns: [Rank (1–10), University, Rank (11–20), University, Rank (21–30), University, Rank (31–40), University]\n",
       "Index: []"
      ]
     },
     "execution_count": 31,
     "metadata": {},
     "output_type": "execute_result"
    }
   ],
   "source": [
    "df"
   ]
  },
  {
   "cell_type": "code",
   "execution_count": 32,
   "id": "4fa2b2b5",
   "metadata": {},
   "outputs": [],
   "source": [
    "data_row = table.find_all('tr')"
   ]
  },
  {
   "cell_type": "code",
   "execution_count": 43,
   "id": "4356fa3e",
   "metadata": {},
   "outputs": [],
   "source": [
    "for row in data_row[1:]:\n",
    "    new = row.find_all('td')\n",
    "    new_data = [i.text.strip() for i in new]\n",
    "    df.loc[len(df)] = new_data"
   ]
  },
  {
   "cell_type": "code",
   "execution_count": 44,
   "id": "ee3dbdb4",
   "metadata": {},
   "outputs": [
    {
     "data": {
      "text/html": [
       "<div>\n",
       "<style scoped>\n",
       "    .dataframe tbody tr th:only-of-type {\n",
       "        vertical-align: middle;\n",
       "    }\n",
       "\n",
       "    .dataframe tbody tr th {\n",
       "        vertical-align: top;\n",
       "    }\n",
       "\n",
       "    .dataframe thead th {\n",
       "        text-align: right;\n",
       "    }\n",
       "</style>\n",
       "<table border=\"1\" class=\"dataframe\">\n",
       "  <thead>\n",
       "    <tr style=\"text-align: right;\">\n",
       "      <th></th>\n",
       "      <th>Rank (1–10)</th>\n",
       "      <th>University</th>\n",
       "      <th>Rank (11–20)</th>\n",
       "      <th>University</th>\n",
       "      <th>Rank (21–30)</th>\n",
       "      <th>University</th>\n",
       "      <th>Rank (31–40)</th>\n",
       "      <th>University</th>\n",
       "    </tr>\n",
       "  </thead>\n",
       "  <tbody>\n",
       "    <tr>\n",
       "      <th>0</th>\n",
       "      <td>1</td>\n",
       "      <td>University of Cambridge</td>\n",
       "      <td>11</td>\n",
       "      <td>University of Warwick</td>\n",
       "      <td>21</td>\n",
       "      <td>Cardiff University</td>\n",
       "      <td>31</td>\n",
       "      <td>University of Strathclyde</td>\n",
       "    </tr>\n",
       "    <tr>\n",
       "      <th>1</th>\n",
       "      <td>2</td>\n",
       "      <td>University of Oxford</td>\n",
       "      <td>12</td>\n",
       "      <td>University of Edinburgh</td>\n",
       "      <td>22=</td>\n",
       "      <td>University of East Anglia</td>\n",
       "      <td>32</td>\n",
       "      <td>University of Essex</td>\n",
       "    </tr>\n",
       "    <tr>\n",
       "      <th>2</th>\n",
       "      <td>3</td>\n",
       "      <td>London School of Economics</td>\n",
       "      <td>13</td>\n",
       "      <td>University of Surrey</td>\n",
       "      <td>22=</td>\n",
       "      <td>University of Leeds</td>\n",
       "      <td>33</td>\n",
       "      <td>Harper Adams University</td>\n",
       "    </tr>\n",
       "    <tr>\n",
       "      <th>3</th>\n",
       "      <td>4</td>\n",
       "      <td>University of St Andrews</td>\n",
       "      <td>14</td>\n",
       "      <td>University of Birmingham</td>\n",
       "      <td>24=</td>\n",
       "      <td>King's College London</td>\n",
       "      <td>34</td>\n",
       "      <td>University of Reading</td>\n",
       "    </tr>\n",
       "    <tr>\n",
       "      <th>4</th>\n",
       "      <td>5</td>\n",
       "      <td>University of Bath</td>\n",
       "      <td>15</td>\n",
       "      <td>University of Bristol</td>\n",
       "      <td>24=</td>\n",
       "      <td>University of Liverpool</td>\n",
       "      <td>35</td>\n",
       "      <td>University of Aberdeen</td>\n",
       "    </tr>\n",
       "    <tr>\n",
       "      <th>5</th>\n",
       "      <td>6</td>\n",
       "      <td>Imperial College London</td>\n",
       "      <td>16=</td>\n",
       "      <td>University of York</td>\n",
       "      <td>26</td>\n",
       "      <td>University of Glasgow</td>\n",
       "      <td>36</td>\n",
       "      <td>Northumbria University</td>\n",
       "    </tr>\n",
       "    <tr>\n",
       "      <th>6</th>\n",
       "      <td>7</td>\n",
       "      <td>Loughborough University</td>\n",
       "      <td>16=</td>\n",
       "      <td>University of Southampton</td>\n",
       "      <td>27</td>\n",
       "      <td>Queen's University Belfast</td>\n",
       "      <td>37</td>\n",
       "      <td>Royal Holloway, University of London</td>\n",
       "    </tr>\n",
       "    <tr>\n",
       "      <th>7</th>\n",
       "      <td>8</td>\n",
       "      <td>Durham University</td>\n",
       "      <td>18</td>\n",
       "      <td>University of Exeter</td>\n",
       "      <td>28</td>\n",
       "      <td>University of Nottingham</td>\n",
       "      <td>38</td>\n",
       "      <td>University of Leicester</td>\n",
       "    </tr>\n",
       "    <tr>\n",
       "      <th>8</th>\n",
       "      <td>9</td>\n",
       "      <td>University College London</td>\n",
       "      <td>19</td>\n",
       "      <td>University of Manchester</td>\n",
       "      <td>29</td>\n",
       "      <td>University of the Arts London</td>\n",
       "      <td>39</td>\n",
       "      <td>Aberystwyth University</td>\n",
       "    </tr>\n",
       "    <tr>\n",
       "      <th>9</th>\n",
       "      <td>10</td>\n",
       "      <td>Lancaster University</td>\n",
       "      <td>20</td>\n",
       "      <td>University of Sheffield</td>\n",
       "      <td>30</td>\n",
       "      <td>Newcastle University</td>\n",
       "      <td>40</td>\n",
       "      <td>Swansea University</td>\n",
       "    </tr>\n",
       "  </tbody>\n",
       "</table>\n",
       "</div>"
      ],
      "text/plain": [
       "  Rank (1–10)                  University Rank (11–20)  \\\n",
       "0           1     University of Cambridge           11   \n",
       "1           2        University of Oxford           12   \n",
       "2           3  London School of Economics           13   \n",
       "3           4    University of St Andrews           14   \n",
       "4           5          University of Bath           15   \n",
       "5           6     Imperial College London          16=   \n",
       "6           7     Loughborough University          16=   \n",
       "7           8           Durham University           18   \n",
       "8           9   University College London           19   \n",
       "9          10        Lancaster University           20   \n",
       "\n",
       "                  University Rank (21–30)                     University  \\\n",
       "0      University of Warwick           21             Cardiff University   \n",
       "1    University of Edinburgh          22=      University of East Anglia   \n",
       "2       University of Surrey          22=            University of Leeds   \n",
       "3   University of Birmingham          24=          King's College London   \n",
       "4      University of Bristol          24=        University of Liverpool   \n",
       "5         University of York           26          University of Glasgow   \n",
       "6  University of Southampton           27     Queen's University Belfast   \n",
       "7       University of Exeter           28       University of Nottingham   \n",
       "8   University of Manchester           29  University of the Arts London   \n",
       "9    University of Sheffield           30           Newcastle University   \n",
       "\n",
       "  Rank (31–40)                            University  \n",
       "0           31             University of Strathclyde  \n",
       "1           32                   University of Essex  \n",
       "2           33               Harper Adams University  \n",
       "3           34                 University of Reading  \n",
       "4           35                University of Aberdeen  \n",
       "5           36                Northumbria University  \n",
       "6           37  Royal Holloway, University of London  \n",
       "7           38               University of Leicester  \n",
       "8           39                Aberystwyth University  \n",
       "9           40                    Swansea University  "
      ]
     },
     "execution_count": 44,
     "metadata": {},
     "output_type": "execute_result"
    }
   ],
   "source": [
    "df"
   ]
  },
  {
   "cell_type": "code",
   "execution_count": 45,
   "id": "b2cde864",
   "metadata": {},
   "outputs": [],
   "source": [
    "df.to_csv('top_40_universities.csv', index = False)"
   ]
  },
  {
   "cell_type": "code",
   "execution_count": null,
   "id": "159c2c3a",
   "metadata": {},
   "outputs": [],
   "source": []
  }
 ],
 "metadata": {
  "kernelspec": {
   "display_name": "Python 3 (ipykernel)",
   "language": "python",
   "name": "python3"
  },
  "language_info": {
   "codemirror_mode": {
    "name": "ipython",
    "version": 3
   },
   "file_extension": ".py",
   "mimetype": "text/x-python",
   "name": "python",
   "nbconvert_exporter": "python",
   "pygments_lexer": "ipython3",
   "version": "3.10.8"
  }
 },
 "nbformat": 4,
 "nbformat_minor": 5
}
